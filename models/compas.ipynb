{
 "cells": [
  {
   "cell_type": "markdown",
   "metadata": {},
   "source": [
    "# COMPAS Dataset\n",
    "\n",
    "The COMPAS dataset comes with predictions, so we do not have to train a model. Here we clean the data and get it into a form suitable for FairVis\n",
    "\n",
    "The data is from ProPublica - https://github.com/propublica/compas-analysis"
   ]
  },
  {
   "cell_type": "code",
   "execution_count": 2,
   "metadata": {},
   "outputs": [],
   "source": [
    "import pandas as pd\n",
    "import numpy as np"
   ]
  },
  {
   "cell_type": "code",
   "execution_count": 3,
   "metadata": {},
   "outputs": [],
   "source": [
    "df = pd.read_csv(\"data/compas/compas-scores-two-years.csv\")"
   ]
  },
  {
   "cell_type": "markdown",
   "metadata": {},
   "source": [
    "Gather the features we want to focus on"
   ]
  },
  {
   "cell_type": "code",
   "execution_count": 4,
   "metadata": {},
   "outputs": [],
   "source": [
    "cols = [\"age\", \n",
    "        \"c_charge_degree\", \n",
    "        \"race\",  \n",
    "        \"sex\", \n",
    "        \"priors_count\", \n",
    "        \"days_b_screening_arrest\", \n",
    "        \"decile_score\", \n",
    "        \"is_recid\", \n",
    "        \"two_year_recid\", \n",
    "        \"c_jail_in\", \n",
    "        \"c_jail_out\"]\n",
    "df = df[cols]"
   ]
  },
  {
   "cell_type": "markdown",
   "metadata": {},
   "source": [
    "Process and clean data as done in Pro Publica"
   ]
  },
  {
   "cell_type": "code",
   "execution_count": 5,
   "metadata": {},
   "outputs": [],
   "source": [
    "# filter those with recent crimes (propub methology)\n",
    "df = df.loc[(df['days_b_screening_arrest'] <= 30) & (df['days_b_screening_arrest'] >= -30)]\n",
    "\n",
    "# create jail days\n",
    "jail_length = pd.to_datetime(df['c_jail_out']) - pd.to_datetime(df['c_jail_in'])\n",
    "df['jail_length_days'] = jail_length.apply(lambda x: x.days)\n",
    "\n",
    "df.drop('c_jail_in', axis=1, inplace=True)\n",
    "df.drop('c_jail_out', axis=1, inplace=True)\n",
    "\n",
    "# make charge degree more legible \n",
    "df[\"c_charge_degree\"] = df['c_charge_degree'].map({'F': 'Felony', 'M': 'Misdemeanor'})\n",
    "\n",
    "# create out\n",
    "higher_risk = df['decile_score'] >= 5\n",
    "df['out'] = higher_risk.astype(int)\n",
    "df.drop('decile_score', axis=1, inplace=True)\n",
    "\n",
    "# make class\n",
    "df[\"class\"] = (df['two_year_recid'] | df['is_recid'])\n",
    "\n",
    "df.drop('is_recid', axis=1, inplace=True)\n",
    "df.drop('two_year_recid', axis=1, inplace=True)"
   ]
  },
  {
   "cell_type": "code",
   "execution_count": 6,
   "metadata": {},
   "outputs": [],
   "source": [
    "df.to_csv('processed/compas_out.csv', index=False)"
   ]
  }
 ],
 "metadata": {
  "kernelspec": {
   "display_name": "Python 3",
   "language": "python",
   "name": "python3"
  },
  "language_info": {
   "codemirror_mode": {
    "name": "ipython",
    "version": 3
   },
   "file_extension": ".py",
   "mimetype": "text/x-python",
   "name": "python",
   "nbconvert_exporter": "python",
   "pygments_lexer": "ipython3",
   "version": "3.7.3"
  }
 },
 "nbformat": 4,
 "nbformat_minor": 4
}
